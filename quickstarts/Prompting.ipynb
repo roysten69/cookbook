https://github.com/google-gemini/cookbook/blob/31163673e958b5348d1ab44bcb5cb89e58d00877/quickstarts/Authentication.ipynb
